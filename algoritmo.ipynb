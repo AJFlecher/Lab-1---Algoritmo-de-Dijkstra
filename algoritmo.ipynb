{
 "cells": [
  {
   "cell_type": "code",
   "execution_count": 9,
   "metadata": {},
   "outputs": [],
   "source": [
    "# generar arbol\n",
    "# El nodo \"a\" esta conectado a \"b\" con un peso de 10 y a \"c\" con un peso de 3.\n",
    "# El nodo \"b\" esta conectado a \"c\" con un peso de 1 y a \"d\" con un peso de 2.\n",
    "# El nodo \"c\" esta conectado a \"b\" con un peso de 4, \"d\" con un peso de 8 y a \"e\" con un peso de 2.\n",
    "# El nodo \"d\" esta conectado a \"e\" con un peso de 7.\n",
    "# El nodo \"e\" esta conectado a \"d\" con un peso de 9.\n",
    "\n",
    "graph = {'a':\n",
    "             {'b': 10, 'c': 3},\n",
    "         'b':\n",
    "             {'c': 1, 'd': 2},\n",
    "         'c':\n",
    "             {'b': 4, 'd': 8, 'e': 2},\n",
    "         'd':\n",
    "             {'e': 7},\n",
    "         'e':\n",
    "             {'d': 9}\n",
    "         }"
   ]
  },
  {
   "cell_type": "code",
   "execution_count": 10,
   "metadata": {},
   "outputs": [],
   "source": [
    "# implementacion del algoritmo\n",
    "def dijkstra(graph, inicio, final):\n",
    "    distancia_corta = {}\n",
    "    predecesor = {}\n",
    "    nodos_restantes = graph\n",
    "    infinito = 9999999\n",
    "    ruta = []\n",
    "    for nodo in nodos_restantes:\n",
    "        distancia_corta[nodo] = infinito\n",
    "    distancia_corta[inicio] = 0\n",
    "\n",
    "    while nodos_restantes:\n",
    "        minNodo = None\n",
    "        for nodo in nodos_restantes:\n",
    "            if minNodo is None:\n",
    "                minNodo = nodo\n",
    "            elif distancia_corta[nodo] < distancia_corta[minNodo]:\n",
    "                minNodo = nodo\n",
    "\n",
    "        for nodoHijo, peso in graph[minNodo].items():\n",
    "            if peso + distancia_corta[minNodo] < distancia_corta[nodoHijo]:\n",
    "                distancia_corta[nodoHijo] = peso + distancia_corta[minNodo]\n",
    "                predecesor[nodoHijo] = minNodo\n",
    "        nodos_restantes.pop(minNodo)\n",
    "\n",
    "    nodoActual = final\n",
    "    while nodoActual != inicio:\n",
    "        try:\n",
    "            ruta.insert(0, nodoActual)\n",
    "            nodoActual = predecesor[nodoActual]\n",
    "        except KeyError:\n",
    "            print('No existe una ruta')\n",
    "            break\n",
    "    ruta.insert(0, inicio)\n",
    "    if distancia_corta[final] != infinito:\n",
    "        print('La distancia mas corta es ' + str(distancia_corta[final]))\n",
    "        print('Y la ruta es ' + str(ruta))\n"
   ]
  },
  {
   "cell_type": "code",
   "execution_count": 5,
   "metadata": {},
   "outputs": [
    {
     "name": "stdout",
     "output_type": "stream",
     "text": [
      "La distancia mas corta es 7\n",
      "Y la ruta es ['a', 'c', 'b']\n"
     ]
    }
   ],
   "source": [
    "\n",
    "#se le pasa el grafico a la funcion, junto con el punto de inicio y el punto final\n",
    "dijkstra(graph, 'a', 'b')\n"
   ]
  },
  {
   "cell_type": "code",
   "execution_count": 11,
   "metadata": {},
   "outputs": [
    {
     "name": "stdout",
     "output_type": "stream",
     "text": [
      "La distancia mas corta es 5\n",
      "Y la ruta es ['a', 'c', 'e']\n"
     ]
    }
   ],
   "source": [
    "dijkstra(graph, 'a', 'e')"
   ]
  },
  {
   "cell_type": "code",
   "execution_count": null,
   "metadata": {},
   "outputs": [],
   "source": []
  }
 ],
 "metadata": {
  "kernelspec": {
   "display_name": "Python 3",
   "language": "python",
   "name": "python3"
  },
  "language_info": {
   "codemirror_mode": {
    "name": "ipython",
    "version": 3
   },
   "file_extension": ".py",
   "mimetype": "text/x-python",
   "name": "python",
   "nbconvert_exporter": "python",
   "pygments_lexer": "ipython3",
   "version": "3.8.3"
  }
 },
 "nbformat": 4,
 "nbformat_minor": 4
}
